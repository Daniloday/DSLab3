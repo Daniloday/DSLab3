{
 "cells": [
  {
   "cell_type": "code",
   "execution_count": 286,
   "metadata": {},
   "outputs": [],
   "source": [
    "import pandas as pd\n",
    "from datetime import datetime\n",
    "import numpy as np\n",
    "import timeit\n",
    "import matplotlib.pyplot as plt"
   ]
  },
  {
   "cell_type": "code",
   "execution_count": 95,
   "metadata": {},
   "outputs": [],
   "source": [
    "def getDFfromFile():\n",
    "    df = pd.read_csv('household_power_consumption.txt', sep = ';', header=1)\n",
    "    df.columns = ['date', 'time', 'global_active_power', 'global_reactive_power', 'voltage', 'global_intensity', 'sub_metering_1', 'sub_metering_2','sub_metering_3']\n",
    "    df = df[df.global_active_power != '?']\n",
    "    df = df[df.voltage != '?']\n",
    "    df = df[df.global_intensity != '?']\n",
    "    df = df[df.sub_metering_1 != '?']\n",
    "    df = df[df.sub_metering_2 != '?']\n",
    "    df[\"global_active_power\"] = df[\"global_active_power\"].apply(pd.to_numeric)\n",
    "    df[\"voltage\"] = df[\"voltage\"].apply(pd.to_numeric)\n",
    "    df[[\"global_intensity\"]] = df[[\"global_intensity\"]].apply(pd.to_numeric)\n",
    "    df[\"sub_metering_1\"] = df[\"sub_metering_1\"].apply(pd.to_numeric)\n",
    "    df[\"sub_metering_2\"] = df[\"sub_metering_2\"].apply(pd.to_numeric)\n",
    "    df.date = pd.to_datetime(df.date + '/' + df.time,format = '%d/%m/%Y/%H:%M:%S')\n",
    "    del df['time']\n",
    "    df = df.rename(columns={'date': 'dateTime'}) \n",
    "    return df"
   ]
  },
  {
   "cell_type": "code",
   "execution_count": 96,
   "metadata": {},
   "outputs": [],
   "source": [
    "df = getDFfromFile()"
   ]
  },
  {
   "cell_type": "code",
   "execution_count": 97,
   "metadata": {},
   "outputs": [],
   "source": [
    "def printDF(df):\n",
    "    return df"
   ]
  },
  {
   "cell_type": "code",
   "execution_count": 98,
   "metadata": {},
   "outputs": [
    {
     "data": {
      "text/html": [
       "<div>\n",
       "<style scoped>\n",
       "    .dataframe tbody tr th:only-of-type {\n",
       "        vertical-align: middle;\n",
       "    }\n",
       "\n",
       "    .dataframe tbody tr th {\n",
       "        vertical-align: top;\n",
       "    }\n",
       "\n",
       "    .dataframe thead th {\n",
       "        text-align: right;\n",
       "    }\n",
       "</style>\n",
       "<table border=\"1\" class=\"dataframe\">\n",
       "  <thead>\n",
       "    <tr style=\"text-align: right;\">\n",
       "      <th></th>\n",
       "      <th>dateTime</th>\n",
       "      <th>global_active_power</th>\n",
       "      <th>global_reactive_power</th>\n",
       "      <th>voltage</th>\n",
       "      <th>global_intensity</th>\n",
       "      <th>sub_metering_1</th>\n",
       "      <th>sub_metering_2</th>\n",
       "      <th>sub_metering_3</th>\n",
       "    </tr>\n",
       "  </thead>\n",
       "  <tbody>\n",
       "    <tr>\n",
       "      <td>0</td>\n",
       "      <td>2006-12-16 17:25:00</td>\n",
       "      <td>5.360</td>\n",
       "      <td>0.436</td>\n",
       "      <td>233.63</td>\n",
       "      <td>23.0</td>\n",
       "      <td>0.0</td>\n",
       "      <td>1.0</td>\n",
       "      <td>16.0</td>\n",
       "    </tr>\n",
       "    <tr>\n",
       "      <td>1</td>\n",
       "      <td>2006-12-16 17:26:00</td>\n",
       "      <td>5.374</td>\n",
       "      <td>0.498</td>\n",
       "      <td>233.29</td>\n",
       "      <td>23.0</td>\n",
       "      <td>0.0</td>\n",
       "      <td>2.0</td>\n",
       "      <td>17.0</td>\n",
       "    </tr>\n",
       "    <tr>\n",
       "      <td>2</td>\n",
       "      <td>2006-12-16 17:27:00</td>\n",
       "      <td>5.388</td>\n",
       "      <td>0.502</td>\n",
       "      <td>233.74</td>\n",
       "      <td>23.0</td>\n",
       "      <td>0.0</td>\n",
       "      <td>1.0</td>\n",
       "      <td>17.0</td>\n",
       "    </tr>\n",
       "    <tr>\n",
       "      <td>3</td>\n",
       "      <td>2006-12-16 17:28:00</td>\n",
       "      <td>3.666</td>\n",
       "      <td>0.528</td>\n",
       "      <td>235.68</td>\n",
       "      <td>15.8</td>\n",
       "      <td>0.0</td>\n",
       "      <td>1.0</td>\n",
       "      <td>17.0</td>\n",
       "    </tr>\n",
       "    <tr>\n",
       "      <td>4</td>\n",
       "      <td>2006-12-16 17:29:00</td>\n",
       "      <td>3.520</td>\n",
       "      <td>0.522</td>\n",
       "      <td>235.02</td>\n",
       "      <td>15.0</td>\n",
       "      <td>0.0</td>\n",
       "      <td>2.0</td>\n",
       "      <td>17.0</td>\n",
       "    </tr>\n",
       "    <tr>\n",
       "      <td>...</td>\n",
       "      <td>...</td>\n",
       "      <td>...</td>\n",
       "      <td>...</td>\n",
       "      <td>...</td>\n",
       "      <td>...</td>\n",
       "      <td>...</td>\n",
       "      <td>...</td>\n",
       "      <td>...</td>\n",
       "    </tr>\n",
       "    <tr>\n",
       "      <td>2075253</td>\n",
       "      <td>2010-11-26 20:58:00</td>\n",
       "      <td>0.946</td>\n",
       "      <td>0</td>\n",
       "      <td>240.43</td>\n",
       "      <td>4.0</td>\n",
       "      <td>0.0</td>\n",
       "      <td>0.0</td>\n",
       "      <td>0.0</td>\n",
       "    </tr>\n",
       "    <tr>\n",
       "      <td>2075254</td>\n",
       "      <td>2010-11-26 20:59:00</td>\n",
       "      <td>0.944</td>\n",
       "      <td>0</td>\n",
       "      <td>240.00</td>\n",
       "      <td>4.0</td>\n",
       "      <td>0.0</td>\n",
       "      <td>0.0</td>\n",
       "      <td>0.0</td>\n",
       "    </tr>\n",
       "    <tr>\n",
       "      <td>2075255</td>\n",
       "      <td>2010-11-26 21:00:00</td>\n",
       "      <td>0.938</td>\n",
       "      <td>0</td>\n",
       "      <td>239.82</td>\n",
       "      <td>3.8</td>\n",
       "      <td>0.0</td>\n",
       "      <td>0.0</td>\n",
       "      <td>0.0</td>\n",
       "    </tr>\n",
       "    <tr>\n",
       "      <td>2075256</td>\n",
       "      <td>2010-11-26 21:01:00</td>\n",
       "      <td>0.934</td>\n",
       "      <td>0</td>\n",
       "      <td>239.70</td>\n",
       "      <td>3.8</td>\n",
       "      <td>0.0</td>\n",
       "      <td>0.0</td>\n",
       "      <td>0.0</td>\n",
       "    </tr>\n",
       "    <tr>\n",
       "      <td>2075257</td>\n",
       "      <td>2010-11-26 21:02:00</td>\n",
       "      <td>0.932</td>\n",
       "      <td>0</td>\n",
       "      <td>239.55</td>\n",
       "      <td>3.8</td>\n",
       "      <td>0.0</td>\n",
       "      <td>0.0</td>\n",
       "      <td>0.0</td>\n",
       "    </tr>\n",
       "  </tbody>\n",
       "</table>\n",
       "<p>2049279 rows × 8 columns</p>\n",
       "</div>"
      ],
      "text/plain": [
       "                   dateTime  global_active_power global_reactive_power  \\\n",
       "0       2006-12-16 17:25:00                5.360                 0.436   \n",
       "1       2006-12-16 17:26:00                5.374                 0.498   \n",
       "2       2006-12-16 17:27:00                5.388                 0.502   \n",
       "3       2006-12-16 17:28:00                3.666                 0.528   \n",
       "4       2006-12-16 17:29:00                3.520                 0.522   \n",
       "...                     ...                  ...                   ...   \n",
       "2075253 2010-11-26 20:58:00                0.946                     0   \n",
       "2075254 2010-11-26 20:59:00                0.944                     0   \n",
       "2075255 2010-11-26 21:00:00                0.938                     0   \n",
       "2075256 2010-11-26 21:01:00                0.934                     0   \n",
       "2075257 2010-11-26 21:02:00                0.932                     0   \n",
       "\n",
       "         voltage  global_intensity  sub_metering_1  sub_metering_2  \\\n",
       "0         233.63              23.0             0.0             1.0   \n",
       "1         233.29              23.0             0.0             2.0   \n",
       "2         233.74              23.0             0.0             1.0   \n",
       "3         235.68              15.8             0.0             1.0   \n",
       "4         235.02              15.0             0.0             2.0   \n",
       "...          ...               ...             ...             ...   \n",
       "2075253   240.43               4.0             0.0             0.0   \n",
       "2075254   240.00               4.0             0.0             0.0   \n",
       "2075255   239.82               3.8             0.0             0.0   \n",
       "2075256   239.70               3.8             0.0             0.0   \n",
       "2075257   239.55               3.8             0.0             0.0   \n",
       "\n",
       "         sub_metering_3  \n",
       "0                  16.0  \n",
       "1                  17.0  \n",
       "2                  17.0  \n",
       "3                  17.0  \n",
       "4                  17.0  \n",
       "...                 ...  \n",
       "2075253             0.0  \n",
       "2075254             0.0  \n",
       "2075255             0.0  \n",
       "2075256             0.0  \n",
       "2075257             0.0  \n",
       "\n",
       "[2049279 rows x 8 columns]"
      ]
     },
     "execution_count": 98,
     "metadata": {},
     "output_type": "execute_result"
    }
   ],
   "source": [
    "printDF(df)"
   ]
  },
  {
   "cell_type": "code",
   "execution_count": 228,
   "metadata": {},
   "outputs": [],
   "source": [
    "def getGAPMore(df,kvt):\n",
    "    df = df[df.global_active_power > float(kvt)]\n",
    "    return df"
   ]
  },
  {
   "cell_type": "code",
   "execution_count": 229,
   "metadata": {},
   "outputs": [
    {
     "name": "stdout",
     "output_type": "stream",
     "text": [
      "6.31 ms ± 117 µs per loop (mean ± std. dev. of 7 runs, 100 loops each)\n"
     ]
    }
   ],
   "source": [
    "%%timeit  \n",
    "getGAPMore(df,5)"
   ]
  },
  {
   "cell_type": "code",
   "execution_count": 231,
   "metadata": {},
   "outputs": [],
   "source": [
    "def getVoltageMore(df,v):\n",
    "    df = df[df.voltage > float(v)]\n",
    "    return df"
   ]
  },
  {
   "cell_type": "code",
   "execution_count": 232,
   "metadata": {},
   "outputs": [
    {
     "name": "stdout",
     "output_type": "stream",
     "text": [
      "137 ms ± 6.21 ms per loop (mean ± std. dev. of 7 runs, 10 loops each)\n"
     ]
    }
   ],
   "source": [
    "%%timeit \n",
    "getVoltageMore(df,235)"
   ]
  },
  {
   "cell_type": "code",
   "execution_count": 233,
   "metadata": {},
   "outputs": [],
   "source": [
    "def getIntensity(df,min,max):\n",
    "    df = df[df.global_intensity >= float(min)]\n",
    "    df = df[df.global_intensity <= float(max)]\n",
    "    df = df[df.sub_metering_2 > df.sub_metering_3]\n",
    "    return df"
   ]
  },
  {
   "cell_type": "code",
   "execution_count": 234,
   "metadata": {},
   "outputs": [
    {
     "name": "stdout",
     "output_type": "stream",
     "text": [
      "10.2 ms ± 145 µs per loop (mean ± std. dev. of 7 runs, 100 loops each)\n"
     ]
    }
   ],
   "source": [
    "%%timeit\n",
    "getIntensity(df,19,20)"
   ]
  },
  {
   "cell_type": "code",
   "execution_count": 236,
   "metadata": {},
   "outputs": [],
   "source": [
    "random_df = df.sample(500000)"
   ]
  },
  {
   "cell_type": "code",
   "execution_count": 237,
   "metadata": {},
   "outputs": [],
   "source": [
    "def getRandom(df):\n",
    "    mean1 = df.sub_metering_1.mean()\n",
    "    mean2 = df.sub_metering_2.mean()\n",
    "    mean3 = df.sub_metering_3.mean()\n",
    "    return (mean1,mean2,mean3)"
   ]
  },
  {
   "cell_type": "code",
   "execution_count": 239,
   "metadata": {},
   "outputs": [
    {
     "name": "stdout",
     "output_type": "stream",
     "text": [
      "1.75 ms ± 23.2 µs per loop (mean ± std. dev. of 7 runs, 1000 loops each)\n"
     ]
    }
   ],
   "source": [
    "%%timeit\n",
    "result = getRandom(random_df)\n",
    "# print(result)"
   ]
  },
  {
   "cell_type": "code",
   "execution_count": 240,
   "metadata": {},
   "outputs": [],
   "source": [
    "def fifth(df):\n",
    "    df = df[df.dateTime.dt.hour >= 18]\n",
    "    df = df[(df.sub_metering_1 + df.sub_metering_2 + df.sub_metering_3)/3 >= 6]\n",
    "    df = df[(df.sub_metering_2 > df.sub_metering_1) & (df.sub_metering_2 > df.sub_metering_3)]\n",
    "    df1 = df[:int(len(df.index)/2)+1]\n",
    "    df2 = df[int(len(df.index)/2)+1:]\n",
    "    df1 = df.iloc[::3, :]\n",
    "    df2 = df.iloc[::4, :]\n",
    "    df3= pd.concat([df1,df2])\n",
    "    return df3"
   ]
  },
  {
   "cell_type": "code",
   "execution_count": 241,
   "metadata": {},
   "outputs": [
    {
     "name": "stdout",
     "output_type": "stream",
     "text": [
      "234 ms ± 4.23 ms per loop (mean ± std. dev. of 7 runs, 1 loop each)\n"
     ]
    }
   ],
   "source": [
    "%%timeit\n",
    "fifth(df)"
   ]
  },
  {
   "cell_type": "code",
   "execution_count": 244,
   "metadata": {},
   "outputs": [
    {
     "name": "stdout",
     "output_type": "stream",
     "text": [
      "Wall time: 7.5 s\n"
     ]
    }
   ],
   "source": [
    "%%time\n",
    "array = df.values"
   ]
  },
  {
   "cell_type": "code",
   "execution_count": 246,
   "metadata": {},
   "outputs": [
    {
     "name": "stdout",
     "output_type": "stream",
     "text": [
      "[[Timestamp('2006-12-16 17:25:00') 5.36 '0.436' ... 0.0 1.0 16.0]\n",
      " [Timestamp('2006-12-16 17:26:00') 5.374 '0.498' ... 0.0 2.0 17.0]\n",
      " [Timestamp('2006-12-16 17:27:00') 5.388 '0.502' ... 0.0 1.0 17.0]\n",
      " ...\n",
      " [Timestamp('2010-11-26 21:00:00') 0.938 0.0 ... 0.0 0.0 0.0]\n",
      " [Timestamp('2010-11-26 21:01:00') 0.934 0.0 ... 0.0 0.0 0.0]\n",
      " [Timestamp('2010-11-26 21:02:00') 0.932 0.0 ... 0.0 0.0 0.0]]\n"
     ]
    }
   ],
   "source": [
    "print(array)"
   ]
  },
  {
   "cell_type": "code",
   "execution_count": 249,
   "metadata": {},
   "outputs": [],
   "source": [
    "def getGAPMoreNum(array,kvt):\n",
    "    result = array[array[:,1] >= float(kvt)]\n",
    "    return result"
   ]
  },
  {
   "cell_type": "code",
   "execution_count": 251,
   "metadata": {
    "scrolled": false
   },
   "outputs": [
    {
     "name": "stdout",
     "output_type": "stream",
     "text": [
      "49.1 ms ± 2.26 ms per loop (mean ± std. dev. of 7 runs, 10 loops each)\n"
     ]
    }
   ],
   "source": [
    "%%timeit\n",
    "getGAPMoreNum(array,5)"
   ]
  },
  {
   "cell_type": "code",
   "execution_count": 256,
   "metadata": {},
   "outputs": [],
   "source": [
    "def getVoltageMoreNum(num,v):\n",
    "    result = np.where(array[:,3] >= float(v))\n",
    "    result = array[result]\n",
    "    return result"
   ]
  },
  {
   "cell_type": "code",
   "execution_count": 257,
   "metadata": {},
   "outputs": [
    {
     "name": "stdout",
     "output_type": "stream",
     "text": [
      "370 ms ± 4.05 ms per loop (mean ± std. dev. of 7 runs, 1 loop each)\n"
     ]
    }
   ],
   "source": [
    "%%timeit\n",
    "getVoltageMoreNum(num,235)"
   ]
  },
  {
   "cell_type": "code",
   "execution_count": 258,
   "metadata": {},
   "outputs": [],
   "source": [
    "def getIntensityNum(array,minInt,maxInt):\n",
    "    result = array[(array[:,4] >= float(minInt)) & (array[:,4] <= float(maxInt)) & (array[:,6] >= array[:,7])]\n",
    "    return result"
   ]
  },
  {
   "cell_type": "code",
   "execution_count": 259,
   "metadata": {},
   "outputs": [
    {
     "name": "stdout",
     "output_type": "stream",
     "text": [
      "113 ms ± 499 µs per loop (mean ± std. dev. of 7 runs, 10 loops each)\n"
     ]
    }
   ],
   "source": [
    "%%timeit\n",
    "getIntensityNum(array,19,20)"
   ]
  },
  {
   "cell_type": "code",
   "execution_count": 262,
   "metadata": {},
   "outputs": [],
   "source": [
    "array_random = np.random.permutation(array)[:500000]"
   ]
  },
  {
   "cell_type": "code",
   "execution_count": 263,
   "metadata": {},
   "outputs": [],
   "source": [
    "def getRandomNum(array):\n",
    "    mean1 = array[:,5].mean()\n",
    "    mean2 = array[:,6].mean()\n",
    "    mean3 = array[:,7].mean()\n",
    "    return (mean1,mean2,mean3)"
   ]
  },
  {
   "cell_type": "code",
   "execution_count": 264,
   "metadata": {},
   "outputs": [
    {
     "name": "stdout",
     "output_type": "stream",
     "text": [
      "101 ms ± 875 µs per loop (mean ± std. dev. of 7 runs, 10 loops each)\n"
     ]
    }
   ],
   "source": [
    "%%timeit\n",
    "getRandomNum(array_random)"
   ]
  },
  {
   "cell_type": "code",
   "execution_count": 269,
   "metadata": {},
   "outputs": [
    {
     "name": "stdout",
     "output_type": "stream",
     "text": [
      "[Timestamp('2006-12-16 17:25:00') Timestamp('2006-12-16 17:26:00')\n",
      " Timestamp('2006-12-16 17:27:00') ... Timestamp('2010-11-26 21:00:00')\n",
      " Timestamp('2010-11-26 21:01:00') Timestamp('2010-11-26 21:02:00')]\n"
     ]
    }
   ],
   "source": [
    "print(array[:,0])"
   ]
  },
  {
   "cell_type": "code",
   "execution_count": 276,
   "metadata": {},
   "outputs": [],
   "source": [
    "def fifthNum(array):\n",
    "    result = array[(str(array[:,0]).split(' ')[1].split(':')[0] >='18') & ((array[:,5]+array[:,6]+array[:,7])/3 > 6) & (array[:,6] > array[:,7])]\n",
    "    result1 = result[:int(array.shape[0]/2)+1:3]\n",
    "    result2 = result[int(array.shape[0]/2)+1::4]\n",
    "    return result1,result2"
   ]
  },
  {
   "cell_type": "code",
   "execution_count": 277,
   "metadata": {
    "scrolled": true
   },
   "outputs": [
    {
     "name": "stdout",
     "output_type": "stream",
     "text": [
      "331 ms ± 12.5 ms per loop (mean ± std. dev. of 7 runs, 1 loop each)\n"
     ]
    }
   ],
   "source": [
    "%%timeit\n",
    "fifthNum(array)"
   ]
  },
  {
   "cell_type": "code",
   "execution_count": 224,
   "metadata": {},
   "outputs": [],
   "source": [
    "def smth(df):\n",
    "    \n",
    "    return df"
   ]
  },
  {
   "cell_type": "code",
   "execution_count": 225,
   "metadata": {},
   "outputs": [
    {
     "data": {
      "text/html": [
       "<div>\n",
       "<style scoped>\n",
       "    .dataframe tbody tr th:only-of-type {\n",
       "        vertical-align: middle;\n",
       "    }\n",
       "\n",
       "    .dataframe tbody tr th {\n",
       "        vertical-align: top;\n",
       "    }\n",
       "\n",
       "    .dataframe thead th {\n",
       "        text-align: right;\n",
       "    }\n",
       "</style>\n",
       "<table border=\"1\" class=\"dataframe\">\n",
       "  <thead>\n",
       "    <tr style=\"text-align: right;\">\n",
       "      <th></th>\n",
       "      <th>dateTime</th>\n",
       "      <th>global_active_power</th>\n",
       "      <th>global_reactive_power</th>\n",
       "      <th>voltage</th>\n",
       "      <th>global_intensity</th>\n",
       "      <th>sub_metering_1</th>\n",
       "      <th>sub_metering_2</th>\n",
       "      <th>sub_metering_3</th>\n",
       "    </tr>\n",
       "  </thead>\n",
       "  <tbody>\n",
       "    <tr>\n",
       "      <td>0</td>\n",
       "      <td>2006-12-16 17:25:00</td>\n",
       "      <td>5.360</td>\n",
       "      <td>0.436</td>\n",
       "      <td>233.63</td>\n",
       "      <td>23.0</td>\n",
       "      <td>0.0</td>\n",
       "      <td>1.0</td>\n",
       "      <td>16.0</td>\n",
       "    </tr>\n",
       "    <tr>\n",
       "      <td>1</td>\n",
       "      <td>2006-12-16 17:26:00</td>\n",
       "      <td>5.374</td>\n",
       "      <td>0.498</td>\n",
       "      <td>233.29</td>\n",
       "      <td>23.0</td>\n",
       "      <td>0.0</td>\n",
       "      <td>2.0</td>\n",
       "      <td>17.0</td>\n",
       "    </tr>\n",
       "    <tr>\n",
       "      <td>2</td>\n",
       "      <td>2006-12-16 17:27:00</td>\n",
       "      <td>5.388</td>\n",
       "      <td>0.502</td>\n",
       "      <td>233.74</td>\n",
       "      <td>23.0</td>\n",
       "      <td>0.0</td>\n",
       "      <td>1.0</td>\n",
       "      <td>17.0</td>\n",
       "    </tr>\n",
       "    <tr>\n",
       "      <td>3</td>\n",
       "      <td>2006-12-16 17:28:00</td>\n",
       "      <td>3.666</td>\n",
       "      <td>0.528</td>\n",
       "      <td>235.68</td>\n",
       "      <td>15.8</td>\n",
       "      <td>0.0</td>\n",
       "      <td>1.0</td>\n",
       "      <td>17.0</td>\n",
       "    </tr>\n",
       "    <tr>\n",
       "      <td>4</td>\n",
       "      <td>2006-12-16 17:29:00</td>\n",
       "      <td>3.520</td>\n",
       "      <td>0.522</td>\n",
       "      <td>235.02</td>\n",
       "      <td>15.0</td>\n",
       "      <td>0.0</td>\n",
       "      <td>2.0</td>\n",
       "      <td>17.0</td>\n",
       "    </tr>\n",
       "    <tr>\n",
       "      <td>...</td>\n",
       "      <td>...</td>\n",
       "      <td>...</td>\n",
       "      <td>...</td>\n",
       "      <td>...</td>\n",
       "      <td>...</td>\n",
       "      <td>...</td>\n",
       "      <td>...</td>\n",
       "      <td>...</td>\n",
       "    </tr>\n",
       "    <tr>\n",
       "      <td>2075253</td>\n",
       "      <td>2010-11-26 20:58:00</td>\n",
       "      <td>0.946</td>\n",
       "      <td>0</td>\n",
       "      <td>240.43</td>\n",
       "      <td>4.0</td>\n",
       "      <td>0.0</td>\n",
       "      <td>0.0</td>\n",
       "      <td>0.0</td>\n",
       "    </tr>\n",
       "    <tr>\n",
       "      <td>2075254</td>\n",
       "      <td>2010-11-26 20:59:00</td>\n",
       "      <td>0.944</td>\n",
       "      <td>0</td>\n",
       "      <td>240.00</td>\n",
       "      <td>4.0</td>\n",
       "      <td>0.0</td>\n",
       "      <td>0.0</td>\n",
       "      <td>0.0</td>\n",
       "    </tr>\n",
       "    <tr>\n",
       "      <td>2075255</td>\n",
       "      <td>2010-11-26 21:00:00</td>\n",
       "      <td>0.938</td>\n",
       "      <td>0</td>\n",
       "      <td>239.82</td>\n",
       "      <td>3.8</td>\n",
       "      <td>0.0</td>\n",
       "      <td>0.0</td>\n",
       "      <td>0.0</td>\n",
       "    </tr>\n",
       "    <tr>\n",
       "      <td>2075256</td>\n",
       "      <td>2010-11-26 21:01:00</td>\n",
       "      <td>0.934</td>\n",
       "      <td>0</td>\n",
       "      <td>239.70</td>\n",
       "      <td>3.8</td>\n",
       "      <td>0.0</td>\n",
       "      <td>0.0</td>\n",
       "      <td>0.0</td>\n",
       "    </tr>\n",
       "    <tr>\n",
       "      <td>2075257</td>\n",
       "      <td>2010-11-26 21:02:00</td>\n",
       "      <td>0.932</td>\n",
       "      <td>0</td>\n",
       "      <td>239.55</td>\n",
       "      <td>3.8</td>\n",
       "      <td>0.0</td>\n",
       "      <td>0.0</td>\n",
       "      <td>0.0</td>\n",
       "    </tr>\n",
       "  </tbody>\n",
       "</table>\n",
       "<p>2049279 rows × 8 columns</p>\n",
       "</div>"
      ],
      "text/plain": [
       "                   dateTime  global_active_power global_reactive_power  \\\n",
       "0       2006-12-16 17:25:00                5.360                 0.436   \n",
       "1       2006-12-16 17:26:00                5.374                 0.498   \n",
       "2       2006-12-16 17:27:00                5.388                 0.502   \n",
       "3       2006-12-16 17:28:00                3.666                 0.528   \n",
       "4       2006-12-16 17:29:00                3.520                 0.522   \n",
       "...                     ...                  ...                   ...   \n",
       "2075253 2010-11-26 20:58:00                0.946                     0   \n",
       "2075254 2010-11-26 20:59:00                0.944                     0   \n",
       "2075255 2010-11-26 21:00:00                0.938                     0   \n",
       "2075256 2010-11-26 21:01:00                0.934                     0   \n",
       "2075257 2010-11-26 21:02:00                0.932                     0   \n",
       "\n",
       "         voltage  global_intensity  sub_metering_1  sub_metering_2  \\\n",
       "0         233.63              23.0             0.0             1.0   \n",
       "1         233.29              23.0             0.0             2.0   \n",
       "2         233.74              23.0             0.0             1.0   \n",
       "3         235.68              15.8             0.0             1.0   \n",
       "4         235.02              15.0             0.0             2.0   \n",
       "...          ...               ...             ...             ...   \n",
       "2075253   240.43               4.0             0.0             0.0   \n",
       "2075254   240.00               4.0             0.0             0.0   \n",
       "2075255   239.82               3.8             0.0             0.0   \n",
       "2075256   239.70               3.8             0.0             0.0   \n",
       "2075257   239.55               3.8             0.0             0.0   \n",
       "\n",
       "         sub_metering_3  \n",
       "0                  16.0  \n",
       "1                  17.0  \n",
       "2                  17.0  \n",
       "3                  17.0  \n",
       "4                  17.0  \n",
       "...                 ...  \n",
       "2075253             0.0  \n",
       "2075254             0.0  \n",
       "2075255             0.0  \n",
       "2075256             0.0  \n",
       "2075257             0.0  \n",
       "\n",
       "[2049279 rows x 8 columns]"
      ]
     },
     "execution_count": 225,
     "metadata": {},
     "output_type": "execute_result"
    }
   ],
   "source": [
    "smth(df)"
   ]
  },
  {
   "cell_type": "code",
   "execution_count": null,
   "metadata": {},
   "outputs": [],
   "source": []
  },
  {
   "cell_type": "code",
   "execution_count": 309,
   "metadata": {},
   "outputs": [
    {
     "data": {
      "image/png": "[encoded data removed]",
      "text/plain": [
       "<Figure size 432x288 with 1 Axes>"
      ]
     },
     "metadata": {
      "needs_background": "light"
     },
     "output_type": "display_data"
    }
   ],
   "source": [
    "x = []\n",
    "y1 = []\n",
    "y2 = []\n",
    "for i in range(7):\n",
    "    i = 10**(i)\n",
    "    x.append(i)\n",
    "    y1.append(timeit.timeit('getIntensityNum(array[:i],10,20)',globals = globals(),number = 10))\n",
    "    y2.append(timeit.timeit('getIntensity(df[:i],10,20)',globals = globals(),number = 10))\n",
    "fig,ax=plt.subplots()\n",
    "plt.plot(x,y1)\n",
    "plt.plot(x,y2)\n",
    "ax.set_xscale('log')\n",
    "plt.ylabel('Time')\n",
    "plt.xlabel('Number of lines')\n",
    "plt.show()"
   ]
  },
  {
   "cell_type": "code",
   "execution_count": null,
   "metadata": {},
   "outputs": [],
   "source": []
  }
 ],
 "metadata": {
  "kernelspec": {
   "display_name": "Python 3",
   "language": "python",
   "name": "python3"
  },
  "language_info": {
   "codemirror_mode": {
    "name": "ipython",
    "version": 3
   },
   "file_extension": ".py",
   "mimetype": "text/x-python",
   "name": "python",
   "nbconvert_exporter": "python",
   "pygments_lexer": "ipython3",
   "version": "3.7.4"
  }
 },
 "nbformat": 4,
 "nbformat_minor": 2
}
